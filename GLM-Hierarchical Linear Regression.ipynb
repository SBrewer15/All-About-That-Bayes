{
 "cells": [
  {
   "cell_type": "code",
   "execution_count": null,
   "metadata": {},
   "outputs": [],
   "source": [
    "# Makes the display take up more of the screen\n",
    "from IPython.core.display import display, HTML\n",
    "display(HTML(\"<style>.container { width:85% !important; }</style>\"))"
   ]
  },
  {
   "cell_type": "markdown",
   "metadata": {},
   "source": [
    "# GLM: Hierarchical Linear Regression"
   ]
  },
  {
   "cell_type": "markdown",
   "metadata": {},
   "source": [
    "(c) 2016 by Danne Elbers, Thomas Wiecki\n",
    "\n",
    "> This tutorial is adapted from a [blog post by Danne Elbers and Thomas Wiecki called \"The Best Of Both Worlds: Hierarchical Linear Regression in PyMC3\"](http://twiecki.github.io/blog/2014/03/17/bayesian-glms-3/).\n",
    "\n",
    "Today's blog post is co-written by [Danne Elbers](http://www.linkedin.com/pub/danne-elbers/69/3a2/7ba) who is doing her masters thesis with me on computational psychiatry using Bayesian modeling. This post also borrows heavily from a [Notebook](http://nbviewer.ipython.org/github/fonnesbeck/multilevel_modeling/blob/master/multilevel_modeling.ipynb?create=1) by [Chris Fonnesbeck](http://biostat.mc.vanderbilt.edu/wiki/Main/ChrisFonnesbeck).\n",
    "\n",
    "The power of Bayesian modelling really clicked for me when I was first introduced to hierarchical modelling. In this blog post we will:\n",
    "  \n",
    "  * provide and intuitive explanation of hierarchical/multi-level Bayesian modeling;\n",
    "  * show how this type of model can easily be built and estimated in [PyMC3](https://github.com/pymc-devs/pymc);\n",
    "  * demonstrate the advantage of using hierarchical Bayesian modelling, as opposed to non-hierarchical Bayesian modelling by comparing the two\n",
    "  * visualize the \"shrinkage effect\" (explained below)\n",
    "  * highlight connections to the frequentist version of this model.\n",
    "\n",
    "Having multiple sets of related measurements comes up all the time. In mathematical psychology, for example, you test multiple subjects on the same task. We then want to estimate a computational/mathematical model that describes the behavior on the task by a set of parameters. We could thus fit a model to each subject individually, assuming they share no similarities; or, pool all the data and estimate one model assuming all subjects are identical. Hierarchical modeling allows the best of both worlds by modeling subjects' similarities but also allowing estimation of individual parameters. As an aside, software from our lab, [HDDM](http://ski.cog.brown.edu/hddm_docs/), allows hierarchical Bayesian estimation of a widely used decision making model in psychology. In this blog post, however, we will use a more classical example of [hierarchical linear regression](http://en.wikipedia.org/wiki/Hierarchical_linear_modeling) to predict radon levels in houses.\n",
    "\n",
    "This is the 3rd blog post on the topic of Bayesian modeling in PyMC3, see here for the previous two:\n",
    "\n",
    "  * [The Inference Button: Bayesian GLMs made easy with PyMC3](http://twiecki.github.io/blog/2013/08/12/bayesian-glms-1/)\n",
    "  * [This world is far from Normal(ly distributed): Bayesian Robust Regression in PyMC3](http://twiecki.github.io/blog/2013/08/27/bayesian-glms-2/)  \n",
    "\n",
    "## The Dataset\n",
    "\n",
    "Gelman et al.'s (2007) radon dataset is a classic for hierarchical modeling. In this dataset the amount of the radioactive gas radon has been measured among different households in all counties of several states. Radon gas is known to be the highest cause of lung cancer in non-smokers. It is believed to be more strongly present in households containing a basement and to differ in amount present among types of soil.\n",
    "Here we'll investigate this differences and try to make predictions of radonlevels in different counties based on the county itself and the presence of a basement. In this example we'll look at Minnesota, a state that contains 85 counties in which different measurements are taken, ranging from 2 to 116 measurements per county. \n",
    "\n",
    "![radon](https://upload.wikimedia.org/wikipedia/commons/b/b9/CNX_Chem_21_06_RadonExpos.png)"
   ]
  },
  {
   "cell_type": "markdown",
   "metadata": {},
   "source": [
    "First, we'll load the data: "
   ]
  },
  {
   "cell_type": "code",
   "execution_count": null,
   "metadata": {},
   "outputs": [],
   "source": [
    "import arviz as az\n",
    "import matplotlib.pyplot as plt\n",
    "import numpy as np\n",
    "import pandas as pd\n",
    "import pymc3 as pm\n",
    "import theano\n",
    "import xarray as xr\n",
    "\n",
    "print(f\"Running on PyMC3 v{pm.__version__}\")"
   ]
  },
  {
   "cell_type": "code",
   "execution_count": null,
   "metadata": {},
   "outputs": [],
   "source": [
    "%config InlineBackend.figure_format = 'retina'\n",
    "az.style.use(\"arviz-darkgrid\")"
   ]
  },
  {
   "cell_type": "code",
   "execution_count": null,
   "metadata": {},
   "outputs": [],
   "source": [
    "data = pd.read_csv(\"radon.csv\")\n",
    "county_names = data.county.unique()\n",
    "\n",
    "data[\"log_radon\"] = data[\"log_radon\"].astype(theano.config.floatX)"
   ]
  },
  {
   "cell_type": "code",
   "execution_count": null,
   "metadata": {},
   "outputs": [],
   "source": [
    "#data.head()"
   ]
  },
  {
   "cell_type": "markdown",
   "metadata": {},
   "source": [
    "The relevant part of the data we will model looks as follows:"
   ]
  },
  {
   "cell_type": "code",
   "execution_count": null,
   "metadata": {},
   "outputs": [],
   "source": [
    "# data['floor']==1 means no basement\n",
    "data[[\"county\", \"log_radon\", \"floor\"]].head()"
   ]
  },
  {
   "cell_type": "markdown",
   "metadata": {},
   "source": [
    "As you can see, we have multiple `radon` measurements (log-converted to be on the real line) -- one row for each house -- in a `county` and whether the house has a basement (`floor` == 0) or not (`floor` == 1). We are interested in whether having a basement increases the `radon` measured in the house. "
   ]
  },
  {
   "cell_type": "markdown",
   "metadata": {},
   "source": [
    "## The Models\n",
    "\n",
    "### Pooling of measurements\n",
    "Now you might say: \"That's easy! I'll just pool all my data and estimate one big regression to assess the influence of a basement across all counties\". In math-speak, that model would be:\n",
    "\n",
    "$$radon_{i, c} = \\alpha + \\beta*\\text{floor}_{i, c} + \\epsilon$$ \n",
    "\n",
    "Where $i$ represents the measurement, $c$ the county and floor contains a 0 or 1 if the house has a basement or not, respectively. If you need a refresher on Linear Regressions in `PyMC`, check out my [previous blog post](http://twiecki.github.io/blog/2013/08/12/bayesian-glms-1/). Critically, we are only estimating *one* intercept and *one* slope for all measurements over all counties pooled together as illustrated in the graphic below ($\\theta$ represents $(\\alpha, \\beta)$ in our case and $y_i$ are the measurements of the $i$th county).\n",
    "\n",
    "![pooled](http://f.cl.ly/items/0R1W063h1h0W2M2C0S3M/Screen%20Shot%202013-10-10%20at%208.22.21%20AM.png)\n",
    "\n",
    "### Unpooled measurements: separate regressions\n",
    "But what if we are interested in whether different counties actually have different relationships (slope) and different base-rates of radon (intercept)? Then you might say \"OK then, I'll just estimate $n$ (number of counties) different regressions -- one for each county\". In math-speak that model would be:\n",
    "\n",
    "$$radon_{i, c} = \\alpha_{c} + \\beta_{c}*\\text{floor}_{i, c} + \\epsilon_c$$\n",
    "\n",
    "Note that we added the subindex $c$ so we are estimating $n$ different $\\alpha$s and $\\beta$s -- one for each county.\n",
    "\n",
    "![unpooled](http://f.cl.ly/items/38020n2t2Y2b1p3t0B0e/Screen%20Shot%202013-10-10%20at%208.23.36%20AM.png)\n",
    "\n",
    "This is the extreme opposite model; where above we assumed all counties are exactly the same, here we are saying that they share no similarities whatsoever. As we show below, this type of model can be very noisy when we have little data per county, as is the case in this data set.\n",
    "\n",
    "### Partial pooling: Hierarchical Regression aka, the best of both worlds\n",
    "\n",
    "Fortunately, there is a middle ground to both of these extremes. Specifically, we may assume that while $\\alpha$s and $\\beta$s are different for each county as in the unpooled case, the coefficients all share similarity. We can model this by assuming that each individual coefficient comes from a common group distribution:\n",
    "\n",
    "$$\\alpha_{c} \\sim \\mathcal{N}(\\mu_{\\alpha}, \\sigma_{\\alpha}^2)$$\n",
    "$$\\beta_{c} \\sim \\mathcal{N}(\\mu_{\\beta}, \\sigma_{\\beta}^2)$$\n",
    "\n",
    "We thus assume the intercepts $\\alpha$ and slopes $\\beta$ to come from a normal distribution centered around their respective group mean $\\mu$ with a certain standard deviation $\\sigma^2$, the values (or rather posteriors) of which we also estimate. That's why this is called a multilevel, hierarchical or partial-pooling modeling.\n",
    "\n",
    "![hierarchical](http://f.cl.ly/items/1B3U223i002y3V2W3r0W/Screen%20Shot%202013-10-10%20at%208.25.05%20AM.png)\n",
    "\n",
    "How do we estimate such a complex model you might ask? Well, that's the beauty of Probabilistic Programming -- we just formulate the model we want and press our [Inference Button(TM)](http://twiecki.github.io/blog/2013/08/12/bayesian-glms-1/). \n",
    "\n",
    "(Note that the above is not a complete Bayesian model specification as we haven't defined priors or hyperpriors (i.e. priors for the group distribution, $\\mu$ and $\\sigma$). These will be used in the model implementation below but only distract here.)"
   ]
  },
  {
   "cell_type": "markdown",
   "metadata": {},
   "source": [
    "## Probabilistic Programming\n",
    "\n",
    "### Unpooled/non-hierarchical model\n",
    "\n",
    "To highlight the effect of the hierarchical linear regression we'll first estimate the non-hierarchical, unpooled Bayesian model from above (separate regressions). For each county we estimate a completely separate mean (intercept). As we have no prior information on what the intercept or regressions could be, we will be using a normal distribution centered around 0 with a wide standard-deviation to describe the intercept and regressions. We'll assume the measurements are normally distributed with noise $\\epsilon$ on which we place a uniform distribution.  "
   ]
  },
  {
   "cell_type": "code",
   "execution_count": null,
   "metadata": {},
   "outputs": [],
   "source": [
    "county_idxs, counties = pd.factorize(data.county)\n",
    "coords = {\n",
    "    \"county\": counties,\n",
    "    \"obs_id\": np.arange(len(county_idxs)),\n",
    "}"
   ]
  },
  {
   "cell_type": "code",
   "execution_count": null,
   "metadata": {},
   "outputs": [],
   "source": [
    "with pm.Model(coords=coords) as unpooled_model:\n",
    "    \n",
    "    # Independent parameters for each county\n",
    "    county_idx= pm.Data(\"county_idx\", county_idxs, dims=\"obs_id\")\n",
    "    floor = pm.Data(\"floor\", data.floor.values, dims =\"obs_id\")\n",
    "    \n",
    "    a = pm.Normal(\"a\", 0, sigma = 100, dims= \"county\")\n",
    "    b = pm.Normal(\"b\", 0, sigma = 100, dims= \"county\")\n",
    "    \n",
    "    # Model Error\n",
    "    eps = pm.HalfCauchy(\"eps\", 5)\n",
    "    \n",
    "    # Model prediction of radon level\n",
    "    # a[county_idx] translates to a[0,0,0,1,1,...],\n",
    "    # we thus link multiple house measures of a county\n",
    "    # to its coefficients.\n",
    "    \n",
    "    radon_est = a[county_idx] + b[county_idx]*floor\n",
    "    \n",
    "    # Data likelihood\n",
    "    y = pm.Normal(\"y\", radon_est, sigma=eps, observed= data.log_radon, dims = \"obs_id\")"
   ]
  },
  {
   "cell_type": "code",
   "execution_count": null,
   "metadata": {},
   "outputs": [],
   "source": [
    "with unpooled_model:\n",
    "    unpooled_trace = pm.sample(2000, return_inferencedata=True)"
   ]
  },
  {
   "cell_type": "markdown",
   "metadata": {},
   "source": [
    "### Hierarchical Model\n",
    "Instead of creating models separatley, the hierarchical model creates group parameters that consider the countys not as completely different but as having an underlying similarity. These distributions are subsequently used to influence the distribution of each county's $\\alpha$ and $\\beta$."
   ]
  },
  {
   "cell_type": "code",
   "execution_count": null,
   "metadata": {},
   "outputs": [],
   "source": [
    "with pm.Model(coords=coords) as hierarchical_model:\n",
    "    county_idx = pm.Data(\"county_idx\", county_idxs, dims= \"obs_id\")\n",
    "    # Hyperpriors for group nodes\n",
    "    mu_a = pm.Normal(\"mu_a\", mu=0., sigma=100)\n",
    "    sigma_a = pm.HalfNormal(\"sigma_a\", 5.)\n",
    "    mu_b = pm.Normal(\"mu_b\", mu=0., sigma=100)\n",
    "    sigma_b = pm.HalfNormal(\"sigma_b\", 5.)\n",
    "    \n",
    "    # Intercept for each county, distributed around the group mean mu_a\n",
    "    # Above we just set mu and sd to a fixed value while here we\n",
    "    # plug in a common group distribution for all a and b (which are vectors of length n_counties)\n",
    "    a = pm.Normal(\"a\", mu=mu_a, sigma = sigma_a, dims =\"county\")\n",
    "    # effect difference between basement and floor level\n",
    "    b = pm.Normal(\"b\", mu=mu_b, sigma = sigma_b, dims=\"county\")\n",
    "    \n",
    "    # model error\n",
    "    eps = pm.HalfCauchy(\"eps\", 5.)\n",
    "    \n",
    "    radon_est = a[county_idx] + b[county_idx] * data.floor.values\n",
    "    \n",
    "    radon_like = pm.Normal(\"radon_like\", mu = radon_est, sigma=eps, observed=data.log_radon, dims = \"obs_id\")"
   ]
  },
  {
   "cell_type": "code",
   "execution_count": null,
   "metadata": {},
   "outputs": [],
   "source": [
    "# Inference button (TM)!\n",
    "with hierarchical_model:\n",
    "    hierarchical_trace = pm.sample(2000, tune=200, target_accept=0.9, return_inferencedata=True)"
   ]
  },
  {
   "cell_type": "markdown",
   "metadata": {},
   "source": [
    "Plotting the hierarchical model trace - its found values - from 2000 iterations onwards (right side plot) and its accumulated marginal values (left side plot) "
   ]
  },
  {
   "cell_type": "code",
   "execution_count": null,
   "metadata": {},
   "outputs": [],
   "source": [
    "az.plot_trace(hierarchical_trace, var_names=[\"mu_a\", \"mu_b\", \"sigma_a\", \"sigma_b\", \"eps\"], compact=True)\n"
   ]
  },
  {
   "cell_type": "code",
   "execution_count": null,
   "metadata": {},
   "outputs": [],
   "source": [
    "az.plot_trace(hierarchical_trace, var_names=[\"a\"], coords={\"county\": counties[:5]})"
   ]
  },
  {
   "cell_type": "markdown",
   "metadata": {},
   "source": [
    "The marginal posteriors in the left column are highly informative. `mu_a` tells us the group mean (log) radon levels. `mu_b` tells us that having no basement decreases radon levels significantly (no mass above zero). We can also see by looking at the marginals for `a` that there is quite some differences in radon levels between counties (each 'rainbow' color corresponds to a single county); the different widths are related to how much confidence we have in each parameter estimate -- the more measurements per county, the higher our confidence will be."
   ]
  },
  {
   "cell_type": "markdown",
   "metadata": {},
   "source": [
    "## Posterior Predictive Check\n",
    "\n",
    "### The Root Mean Square Deviation\n",
    "To find out which of the models explains the data better we can calculate the Root Mean Square Deviaton (RMSD). This posterior predictive check revolves around recreating the data based on the parameters found at different moments in the chain. The recreated or predicted values are subsequently compared to the real data points, the model that predicts data points closer to the original data is considered the better one. Thus, the lower the RMSD the better.\n",
    "\n",
    "When computing the RMSD (code not shown) we get the following result:\n",
    "\n",
    "  * individual/non-hierarchical model: 0.13\n",
    "  * hierarchical model: 0.08\n",
    "\n",
    "As can be seen above the hierarchical model performs better than the non-hierarchical model in predicting the radon values. Following this, we'll plot some examples of county's showing the actual radon measurements, the hierarchical predictions and the non-hierarchical predictions. "
   ]
  },
  {
   "cell_type": "code",
   "execution_count": null,
   "metadata": {},
   "outputs": [],
   "source": [
    "selection = [\"CASS\", \"CROW WING\", \"FREEBORN\"]\n",
    "xvals = xr.DataArray(np.linspace(-0.2,1.2, num =85), dims=[\"x_plot\"])\n",
    "\n",
    "unpooled_post = unpooled_trace.posterior.stack(chain_draw= (\"chain\", \"draw\"))\n",
    "hier_post = hierarchical_trace.posterior.stack(chain_draw= (\"chain\", \"draw\"))\n",
    "\n",
    "hier_post"
   ]
  },
  {
   "cell_type": "code",
   "execution_count": null,
   "metadata": {},
   "outputs": [],
   "source": [
    "obs_county = unpooled_post['county'].isel(county=unpooled_trace.constant_data[\"county_idx\"])\n",
    "observed_data = unpooled_trace.observed_data.assign_coords(floor=unpooled_trace.constant_data['floor'])\n",
    "\n",
    "observed_data"
   ]
  },
  {
   "cell_type": "code",
   "execution_count": null,
   "metadata": {},
   "outputs": [],
   "source": [
    "unpooled_est = (unpooled_post[\"a\"] + unpooled_post[\"b\"] * xvals).transpose(\"x_plot\", ...)\n",
    "hier_est = (hier_post['a'] + hier_post['b']*xvals).transpose(\"x_plot\", ...)"
   ]
  },
  {
   "cell_type": "code",
   "execution_count": null,
   "metadata": {},
   "outputs": [],
   "source": [
    "rng =np.random.default_rng(0)"
   ]
  },
  {
   "cell_type": "code",
   "execution_count": null,
   "metadata": {},
   "outputs": [],
   "source": [
    "fig, axis = plt.subplots(1, 3, figsize=(12, 6), sharey=True, sharex=True)\n",
    "axis = axis.ravel()\n",
    "\n",
    "random_subset = rng.permutation(np.arange(len(hier_est[\"chain_draw\"])))[:200]\n",
    "\n",
    "for i,c in enumerate(selection):\n",
    "    unpooled_c = unpooled_est.sel(county=c)\n",
    "    unpooled_means = unpooled_post.sel(county=c).mean()\n",
    "    \n",
    "    # plot all samples from unpooled model\n",
    "    axis[i].plot(xvals, unpooled_c.isel(chain_draw=random_subset), color=\"C0\", alpha=0.1)\n",
    "    # plot mean from unpooled model\n",
    "    axis[i].plot(\n",
    "        xvals,\n",
    "        unpooled_means[\"a\"] + unpooled_means[\"b\"] * xvals,\n",
    "        color=\"C0\",\n",
    "        alpha=1,\n",
    "        lw=2.0,\n",
    "        label=\"unpooled\",\n",
    "    )\n",
    "    ### hierarchical model ##\n",
    "    hier_c = hier_est.sel(county=c)\n",
    "    hier_means = hier_post.sel(county=c).mean()\n",
    "    # plot all samples\n",
    "    axis[i].plot(xvals, hier_c.isel(chain_draw=random_subset), color=\"C1\", alpha=0.1)\n",
    "    # plot mean\n",
    "    axis[i].plot(\n",
    "        xvals,\n",
    "        hier_means[\"a\"] + hier_means[\"b\"] * xvals,\n",
    "        color=\"C1\",\n",
    "        alpha=1,\n",
    "        lw=2.0,\n",
    "        label=\"hierarchical\",\n",
    "    )\n",
    "    # observed_data\n",
    "    obs_data_c = observed_data.where(obs_county.isin(selection), drop=True)\n",
    "    axis[i].scatter(\n",
    "        obs_data_c[\"floor\"] + rng.normal(scale=0.01, size=len(obs_data_c[\"floor\"])),\n",
    "        obs_data_c[\"y\"],\n",
    "        alpha=0.5,\n",
    "        color=\"k\",\n",
    "        marker=\".\",\n",
    "        s=80,\n",
    "        zorder=3,\n",
    "        label=\"original data\",\n",
    "    )\n",
    "    \n",
    "    axis[i].set_xticks([0, 1])\n",
    "    axis[i].set_xticklabels([\"basement\", \"no basement\"])\n",
    "    axis[i].set_ylim(-1, 4)\n",
    "    axis[i].set_title(c)\n",
    "    if not i % 3:\n",
    "        axis[i].legend()\n",
    "        axis[i].set_ylabel(\"log radon level\")"
   ]
  },
  {
   "cell_type": "markdown",
   "metadata": {},
   "source": [
    "In the above plot we have the data points in black of three selected counties. The thick lines represent the mean estimate of the regression line of the individual (blue) and hierarchical model (in Orange). The thinner lines are regression lines of individual samples from the posterior and give us a sense of how variable the estimates are.\n",
    "\n",
    "When looking at the county 'CASS' we see that the non-hierarchical estimation is strongly biased: as this county's data contains only households with a basement the estimated regression produces the non-sensical result of a giant negative slope meaning that we would expect negative radon levels in a house without basement!\n",
    "\n",
    "Moreover, in the example county's 'CROW WING' and 'FREEBORN' the non-hierarchical model appears to react more strongly than the hierarchical model to the existance of outliers in the dataset ('CROW WING': no basement upper right. 'FREEBORN': basement upper left). Assuming that there should be a higher amount of radon gas measurable in households with basements opposed to those without, the county 'CROW WING''s non-hierachical model seems off. Having the group-distribution constrain the coefficients we get meaningful estimates in all cases as we apply what we learn from the group to the individuals and vice-versa."
   ]
  },
  {
   "cell_type": "markdown",
   "metadata": {},
   "source": [
    "## Shrinkage\n",
    "Shrinkage describes the process by which our estimates are \"pulled\" towards the group-mean as a result of the common group distribution -- county-coefficients very far away from the group mean have very low probability under the normality assumption, moving them closer to the group mean gives them higher probability. In the non-hierachical model every county is allowed to differ completely from the others by just using each county's data, resulting in a model more prone to outliers (as shown above). "
   ]
  },
  {
   "cell_type": "code",
   "execution_count": null,
   "metadata": {},
   "outputs": [],
   "source": [
    "hier_a = hier_post[\"a\"].mean(\"chain_draw\")\n",
    "hier_b = hier_post[\"b\"].mean(\"chain_draw\")\n",
    "unpooled_a = unpooled_post[\"a\"].mean(\"chain_draw\")\n",
    "unpooled_b = unpooled_post[\"b\"].mean(\"chain_draw\")"
   ]
  },
  {
   "cell_type": "code",
   "execution_count": null,
   "metadata": {},
   "outputs": [],
   "source": [
    "fig = plt.figure(figsize=(10, 7))\n",
    "ax = fig.add_subplot(\n",
    "    111,\n",
    "    xlabel=\"Intercept\",\n",
    "    ylabel=\"Floor Measure\",\n",
    "    title=\"Hierarchical vs. Non-hierarchical Bayes\",\n",
    "    xlim=(0, 3),\n",
    "    ylim=(-3, 3),\n",
    ")\n",
    "\n",
    "ax.scatter(unpooled_a, unpooled_b, s=26, alpha=0.4, label=\"non-hierarchical\")\n",
    "ax.scatter(hier_a, hier_b, c=\"red\", s=26, alpha=0.4, label=\"hierarchical\")\n",
    "for i in range(len(hier_b)):\n",
    "    ax.arrow(\n",
    "        unpooled_a[i],\n",
    "        unpooled_b[i],\n",
    "        hier_a[i] - unpooled_a[i],\n",
    "        hier_b[i] - unpooled_b[i],\n",
    "        fc=\"k\",\n",
    "        ec=\"k\",\n",
    "        length_includes_head=True,\n",
    "        alpha=0.4,\n",
    "        head_width=0.04,\n",
    "    )\n",
    "ax.legend();"
   ]
  },
  {
   "cell_type": "markdown",
   "metadata": {},
   "source": [
    "In the shrinkage plot above we show the coefficients of each county's non-hierarchical posterior mean (blue) and the hierarchical posterior mean (red). To show the effect of shrinkage on a single coefficient-pair (alpha and beta) we connect the blue and red points belonging to the same county by an arrow. Some non-hierarchical posteriors are so far out that we couldn't display them in this plot (it makes the axes too wide). Interestingly, all hierarchical posteriors of the floor-measure seem to be around -0.6 indicating that having a basement in almost all county's is a clear indicator for heightened radon levels. The intercept (which we take for type of soil) appears to differ among countys. This information would have been difficult to find if we had only used the non-hierarchical model.\n",
    "\n",
    "Critically, many effects that look quite large and significant in the non-hiearchical model actually turn out to be much smaller when we take the group distribution into account (this point can also well be seen in plot `In[12]` in [Chris' NB](http://nbviewer.ipython.org/github/fonnesbeck/multilevel_modeling/blob/master/multilevel_modeling.ipynb)). Shrinkage can thus be viewed as a form of smart regularization that helps reduce false-positives!"
   ]
  },
  {
   "cell_type": "markdown",
   "metadata": {},
   "source": [
    "### Connections to Frequentist statistics\n",
    "\n",
    "This type of hierarchical, partial pooling model is known as a [random effects model](https://en.wikipedia.org/wiki/Random_effects_model) in frequentist terms. Interestingly, if we placed uniform priors on the group mean and variance in the above model, the resulting Bayesian model would be equivalent to a random effects model. One might imagine that the difference between a model with uniform or wide normal hyperpriors should not have a huge impact. However, [Gelman says](http://andrewgelman.com/2014/03/15/problematic-interpretations-confidence-intervals/) encourages use of weakly-informative priors (like we did above) over flat priors."
   ]
  },
  {
   "cell_type": "markdown",
   "metadata": {},
   "source": [
    "## Summary\n",
    "\n",
    "In this post, co-authored by Danne Elbers, we showed how a multi-level hierarchical Bayesian model gives the best of both worlds when we have multiple sets of measurements we expect to have similarity. The naive approach either pools all data together and ignores the individual differences, or treats each set as completely separate leading to noisy estimates, as shown above. By assuming that each individual data set (each county in our case) is distributed according to a group distribution -- which we simultaneously estimate -- we benefit from increased statistical power and smart regularization via the shrinkage effect. Probabilistic Programming in [PyMC3](https://github.com/pymc-devs/pymc3) then makes Bayesian estimation of this model trivial.\n",
    "\n",
    "As a follow-up we could also include other states into our model. For this we could add yet another layer to the hierarchy where each state is pooled at the country level. Finally, readers of my blog will notice that we didn't use `glm()` here as it does not play nice with hierarchical models yet.\n",
    "\n",
    "## References\n",
    "  * [The underlying Notebook of this blog post](https://rawgithub.com/twiecki/WhileMyMCMCGentlySamples/master/content/downloads/notebooks/GLM_hierarchical.ipynb)\n",
    "  * Blog post: [The Inference Button: Bayesian GLMs made easy with PyMC3](http://twiecki.github.io/blog/2013/08/12/bayesian-glms-1/)\n",
    "  * Blog post: [This world is far from Normal(ly distributed): Bayesian Robust Regression in PyMC3](http://twiecki.github.io/blog/2013/08/27/bayesian-glms-2/)  \n",
    "  * [Chris Fonnesbeck repo containing a more extensive analysis](https://github.com/fonnesbeck/multilevel_modeling/)\n",
    "  * Blog post: [Shrinkage in multi-level hierarchical models](http://doingbayesiandataanalysis.blogspot.com/2012/11/shrinkage-in-multi-level-hierarchical.html) by John Kruschke\n",
    "  * Gelman, A.; Carlin; Stern; and Rubin, D., 2007, \"Replication data for: Bayesian Data Analysis, Second Edition\", \n",
    "  * Gelman, A., & Hill, J. (2006). [Data Analysis Using Regression and Multilevel/Hierarchical Models (1st ed.). Cambridge University Press.](http://www.amazon.com/Analysis-Regression-Multilevel-Hierarchical-Models/dp/052168689X)\n",
    "  * Gelman, A. (2006). Multilevel (Hierarchical) modeling: what it can and cannot do. Technometrics, 48(3), 432–435.\n",
    "  \n",
    "### Acknowledgements\n",
    "Thanks to [Imri Sofer](http://serre-lab.clps.brown.edu/person/imri-sofer/) for feedback and teaching us about the connections to random-effects models and [Dan Dillon](http://cdasr.mclean.harvard.edu/index.php/about-us/current-lab-members/14-faculty/62-daniel-dillon) for useful comments on an earlier draft."
   ]
  },
  {
   "cell_type": "code",
   "execution_count": null,
   "metadata": {},
   "outputs": [],
   "source": [
    "%load_ext watermark\n",
    "%watermark -n -u -v -iv -w"
   ]
  }
 ],
 "metadata": {
  "anaconda-cloud": {},
  "kernelspec": {
   "display_name": "Python 3 (ipykernel)",
   "language": "python",
   "name": "python3"
  },
  "language_info": {
   "codemirror_mode": {
    "name": "ipython",
    "version": 3
   },
   "file_extension": ".py",
   "mimetype": "text/x-python",
   "name": "python",
   "nbconvert_exporter": "python",
   "pygments_lexer": "ipython3",
   "version": "3.7.13"
  },
  "latex_envs": {
   "bibliofile": "biblio.bib",
   "cite_by": "apalike",
   "current_citInitial": 1,
   "eqLabelWithNumbers": true,
   "eqNumInitial": 0
  },
  "toc": {
   "base_numbering": 1,
   "nav_menu": {},
   "number_sections": true,
   "sideBar": true,
   "skip_h1_title": false,
   "title_cell": "Table of Contents",
   "title_sidebar": "Contents",
   "toc_cell": false,
   "toc_position": {},
   "toc_section_display": true,
   "toc_window_display": false
  },
  "varInspector": {
   "cols": {
    "lenName": 16,
    "lenType": 16,
    "lenVar": 40
   },
   "kernels_config": {
    "python": {
     "delete_cmd_postfix": "",
     "delete_cmd_prefix": "del ",
     "library": "var_list.py",
     "varRefreshCmd": "print(var_dic_list())"
    },
    "r": {
     "delete_cmd_postfix": ") ",
     "delete_cmd_prefix": "rm(",
     "library": "var_list.r",
     "varRefreshCmd": "cat(var_dic_list()) "
    }
   },
   "types_to_exclude": [
    "module",
    "function",
    "builtin_function_or_method",
    "instance",
    "_Feature"
   ],
   "window_display": false
  }
 },
 "nbformat": 4,
 "nbformat_minor": 4
}
